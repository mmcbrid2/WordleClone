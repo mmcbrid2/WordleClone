{
 "cells": [
  {
   "cell_type": "code",
   "execution_count": 1,
   "id": "cc839263",
   "metadata": {},
   "outputs": [],
   "source": [
    "# Import Necessary Packages\n",
    "import random as rd\n",
    "from colorama import Fore\n",
    "from english_words import english_words_alpha_set as ew"
   ]
  },
  {
   "cell_type": "code",
   "execution_count": 2,
   "id": "ea3bd736",
   "metadata": {},
   "outputs": [],
   "source": [
    "# Define a class named 'wordle'\n",
    "class wordle:\n",
    "    # Constructor method: Initialize game state and choose a random word from a list of 5-letter words.\n",
    "    def __init__(self):\n",
    "        # Initialize the number of attempts\n",
    "        self.attempts = 1 \n",
    "        # Create list of English letter words \n",
    "        self.word_list = list(ew) \n",
    "        # Convert all words in the list to uppercase\n",
    "        self.word_list_upper = [word.upper() for word in self.word_list] \n",
    "        # Create a list to store only 5-letter words from the uppercase list\n",
    "        self.word_list_sorted = [] \n",
    "        for word in self.word_list_upper:\n",
    "            if len(word) == 5:\n",
    "                self.word_list_sorted.append(word)\n",
    "        # Randomly select word from sorted list as answer\n",
    "        self.answer = rd.choice(self.word_list_sorted)\n",
    "        # Create a list that contains each letter of the answer word\n",
    "        self.answer_list = [self.answer[0], self.answer[1], self.answer[2], self.answer[3], self.answer[4]]\n",
    "        # Create an empty list to track remaining letters in the answer\n",
    "        self.answer_remaining_letters = []\n",
    "\n",
    "        \n",
    "    # define method to input a guess and check it against the answer    \n",
    "    def guess(self):\n",
    "        # Prompt the user to enter a guess and convert it to uppercase\n",
    "        guess = input('Enter Guess: ').upper()\n",
    "        # Check if the guess has exactly 5 letters\n",
    "        if len(guess) == 5:\n",
    "            # Check if the guess is in the  word list\n",
    "            if guess in self.word_list_sorted:\n",
    "                # Initialize a list to track remaining letters in the answer\n",
    "                self.answer_remaining_letters.append(self.answer[0])\n",
    "                self.answer_remaining_letters.append(self.answer[1])\n",
    "                self.answer_remaining_letters.append(self.answer[2])\n",
    "                self.answer_remaining_letters.append(self.answer[3])\n",
    "                self.answer_remaining_letters.append(self.answer[4])\n",
    "                # Create a dictionary to check each letter of the guess against the answer\n",
    "                guess_list = [guess[0],guess[1],guess[2],guess[3],guess[4]]\n",
    "                check_dict = {0: [guess[0], self.answer_list[0]],\n",
    "                              1: [guess[1], self.answer_list[1]],\n",
    "                              2: [guess[2], self.answer_list[2]],\n",
    "                              3: [guess[3], self.answer_list[3]],\n",
    "                              4: [guess[4], self.answer_list[4]]}\n",
    "                # Compare each letter and provide feedback (GREEN for correct, YELLOW for correct but in the wrong position)\n",
    "                for guess_let, answer in check_dict.values():\n",
    "                    if guess_let == answer:\n",
    "                        print(Fore.GREEN + guess_let)\n",
    "                        self.answer_remaining_letters.remove(guess_let)\n",
    "                    elif guess_let in self.answer_remaining_letters:\n",
    "                        self.answer_remaining_letters.remove(guess_let)\n",
    "                        print(Fore.YELLOW + guess_let)\n",
    "                    else:\n",
    "                        print(Fore.BLACK + guess_let)\n",
    "                # Check if the guess is correct\n",
    "                if guess == self.answer: \n",
    "                    print('You win!')\n",
    "                # If the guess is incorrect and there are attempts left, continue the game\n",
    "                elif guess != self.answer and self.attempts < 6:\n",
    "                    self.attempts += 1\n",
    "                    print(Fore.BLACK + \"Not Quite!\")\n",
    "                    print()\n",
    "                    self.guess()\n",
    "                    self.answer_remaining_letters = []\n",
    "                # If the player has used all attempts, end the game\n",
    "                else:\n",
    "                    print(Fore.RED + \"Try again tomorrow!\")\n",
    "            # If the guess is not in the word list, ask for another guess\n",
    "            else:\n",
    "                print(Fore.RED + \"This word is not in the dictionary\")\n",
    "                self.guess()\n",
    "        # If the guess does not have exactly 5 letters, ask for another guess\n",
    "        else:\n",
    "            print(Fore.RED + \"Please enter a 5 letter Word!\")\n",
    "            self.guess()\n",
    "\n",
    "            \n",
    "# Create an instance of the 'wordle' class to start the game.            \n",
    "game1 = wordle()"
   ]
  },
  {
   "cell_type": "code",
   "execution_count": 3,
   "id": "4e23c67e",
   "metadata": {},
   "outputs": [
    {
     "data": {
      "text/plain": [
       "'STRAW'"
      ]
     },
     "execution_count": 3,
     "metadata": {},
     "output_type": "execute_result"
    }
   ],
   "source": [
    "game1.answer"
   ]
  },
  {
   "cell_type": "code",
   "execution_count": 4,
   "id": "dfa82ea4",
   "metadata": {},
   "outputs": [
    {
     "name": "stdout",
     "output_type": "stream",
     "text": [
      "Enter Guess: Four\n",
      "\u001b[31mPlease enter a 5 letter Word!\n",
      "Enter Guess: AdeiU\n",
      "\u001b[31mThis word is not in the dictionary\n",
      "Enter Guess: AdieU\n",
      "\u001b[33mA\n",
      "\u001b[30mD\n",
      "\u001b[30mI\n",
      "\u001b[30mE\n",
      "\u001b[30mU\n",
      "\u001b[30mNot Quite!\n",
      "\n",
      "Enter Guess: Plato\n",
      "\u001b[30mP\n",
      "\u001b[30mL\n",
      "\u001b[33mA\n",
      "\u001b[33mT\n",
      "\u001b[30mO\n",
      "\u001b[30mNot Quite!\n",
      "\n",
      "Enter Guess: straw\n",
      "\u001b[32mS\n",
      "\u001b[32mT\n",
      "\u001b[32mR\n",
      "\u001b[32mA\n",
      "\u001b[32mW\n",
      "You win!\n"
     ]
    }
   ],
   "source": [
    "game1.guess()"
   ]
  }
 ],
 "metadata": {
  "kernelspec": {
   "display_name": "Python 3 (ipykernel)",
   "language": "python",
   "name": "python3"
  },
  "language_info": {
   "codemirror_mode": {
    "name": "ipython",
    "version": 3
   },
   "file_extension": ".py",
   "mimetype": "text/x-python",
   "name": "python",
   "nbconvert_exporter": "python",
   "pygments_lexer": "ipython3",
   "version": "3.9.12"
  },
  "toc": {
   "base_numbering": 1,
   "nav_menu": {},
   "number_sections": true,
   "sideBar": true,
   "skip_h1_title": false,
   "title_cell": "Table of Contents",
   "title_sidebar": "Contents",
   "toc_cell": false,
   "toc_position": {},
   "toc_section_display": true,
   "toc_window_display": false
  }
 },
 "nbformat": 4,
 "nbformat_minor": 5
}
